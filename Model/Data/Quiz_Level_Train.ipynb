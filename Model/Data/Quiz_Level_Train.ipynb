{
 "cells": [
  {
   "cell_type": "code",
   "execution_count": 1,
   "metadata": {},
   "outputs": [],
   "source": [
    "import numpy as np\n",
    "import pandas as pd\n",
    "\n",
    "# Data visualization\n",
    "import matplotlib.pyplot as plt\n",
    "import seaborn as sns\n",
    "\n",
    "# Data Pre-processing\n",
    "from sklearn import preprocessing\n",
    "from sklearn.preprocessing import StandardScaler\n",
    "\n",
    "# Regression algorithms\n",
    "from sklearn.ensemble import RandomForestRegressor\n",
    "\n",
    "# Data Train-Test split\n",
    "from sklearn.model_selection import train_test_split\n",
    "\n",
    "# Model evaluation\n",
    "from sklearn import metrics\n",
    "\n",
    "# Data Saving\n",
    "import pickle\n",
    "\n",
    "# Other\n",
    "import re\n"
   ]
  },
  {
   "cell_type": "code",
   "execution_count": 26,
   "metadata": {},
   "outputs": [
    {
     "data": {
      "text/html": [
       "<div>\n",
       "<style scoped>\n",
       "    .dataframe tbody tr th:only-of-type {\n",
       "        vertical-align: middle;\n",
       "    }\n",
       "\n",
       "    .dataframe tbody tr th {\n",
       "        vertical-align: top;\n",
       "    }\n",
       "\n",
       "    .dataframe thead th {\n",
       "        text-align: right;\n",
       "    }\n",
       "</style>\n",
       "<table border=\"1\" class=\"dataframe\">\n",
       "  <thead>\n",
       "    <tr style=\"text-align: right;\">\n",
       "      <th></th>\n",
       "      <th>Difficulty Level 1 Question 1</th>\n",
       "      <th>Difficulty Level 1 Question 2</th>\n",
       "      <th>Difficulty Level 1 Question 3</th>\n",
       "      <th>Difficulty Level 2 Question 1</th>\n",
       "      <th>Difficulty Level 2 Question 2</th>\n",
       "      <th>Difficulty Level 2 Question 3</th>\n",
       "      <th>Difficulty Level 3 Question 1</th>\n",
       "      <th>Difficulty Level 3 Question 2</th>\n",
       "      <th>Difficulty Level 3 Question 3</th>\n",
       "      <th>Difficulty Level 4 Question 1</th>\n",
       "      <th>Difficulty Level 4 Question 2</th>\n",
       "      <th>Difficulty Level 4 Question 3</th>\n",
       "      <th>Difficulty Level 5 Question 1</th>\n",
       "      <th>Difficulty Level 5 Question 2</th>\n",
       "      <th>Difficulty Level 5 Question 3</th>\n",
       "      <th>Total_Points</th>\n",
       "      <th>Time_Spent</th>\n",
       "      <th>Level</th>\n",
       "    </tr>\n",
       "  </thead>\n",
       "  <tbody>\n",
       "    <tr>\n",
       "      <th>0</th>\n",
       "      <td>0</td>\n",
       "      <td>1</td>\n",
       "      <td>1</td>\n",
       "      <td>2</td>\n",
       "      <td>0</td>\n",
       "      <td>0</td>\n",
       "      <td>3</td>\n",
       "      <td>3</td>\n",
       "      <td>3</td>\n",
       "      <td>4</td>\n",
       "      <td>4</td>\n",
       "      <td>4</td>\n",
       "      <td>0</td>\n",
       "      <td>5</td>\n",
       "      <td>0</td>\n",
       "      <td>30</td>\n",
       "      <td>54</td>\n",
       "      <td>Level 3</td>\n",
       "    </tr>\n",
       "    <tr>\n",
       "      <th>1</th>\n",
       "      <td>1</td>\n",
       "      <td>0</td>\n",
       "      <td>1</td>\n",
       "      <td>0</td>\n",
       "      <td>2</td>\n",
       "      <td>0</td>\n",
       "      <td>3</td>\n",
       "      <td>0</td>\n",
       "      <td>0</td>\n",
       "      <td>0</td>\n",
       "      <td>0</td>\n",
       "      <td>0</td>\n",
       "      <td>0</td>\n",
       "      <td>0</td>\n",
       "      <td>5</td>\n",
       "      <td>12</td>\n",
       "      <td>51</td>\n",
       "      <td>Level 1</td>\n",
       "    </tr>\n",
       "    <tr>\n",
       "      <th>2</th>\n",
       "      <td>0</td>\n",
       "      <td>0</td>\n",
       "      <td>0</td>\n",
       "      <td>0</td>\n",
       "      <td>2</td>\n",
       "      <td>2</td>\n",
       "      <td>3</td>\n",
       "      <td>3</td>\n",
       "      <td>3</td>\n",
       "      <td>0</td>\n",
       "      <td>4</td>\n",
       "      <td>0</td>\n",
       "      <td>0</td>\n",
       "      <td>5</td>\n",
       "      <td>0</td>\n",
       "      <td>22</td>\n",
       "      <td>56</td>\n",
       "      <td>Level 2</td>\n",
       "    </tr>\n",
       "    <tr>\n",
       "      <th>3</th>\n",
       "      <td>0</td>\n",
       "      <td>1</td>\n",
       "      <td>1</td>\n",
       "      <td>2</td>\n",
       "      <td>0</td>\n",
       "      <td>2</td>\n",
       "      <td>0</td>\n",
       "      <td>0</td>\n",
       "      <td>0</td>\n",
       "      <td>4</td>\n",
       "      <td>0</td>\n",
       "      <td>0</td>\n",
       "      <td>5</td>\n",
       "      <td>0</td>\n",
       "      <td>5</td>\n",
       "      <td>20</td>\n",
       "      <td>40</td>\n",
       "      <td>Level 2</td>\n",
       "    </tr>\n",
       "    <tr>\n",
       "      <th>4</th>\n",
       "      <td>0</td>\n",
       "      <td>1</td>\n",
       "      <td>1</td>\n",
       "      <td>2</td>\n",
       "      <td>2</td>\n",
       "      <td>0</td>\n",
       "      <td>0</td>\n",
       "      <td>3</td>\n",
       "      <td>3</td>\n",
       "      <td>4</td>\n",
       "      <td>0</td>\n",
       "      <td>4</td>\n",
       "      <td>5</td>\n",
       "      <td>5</td>\n",
       "      <td>0</td>\n",
       "      <td>30</td>\n",
       "      <td>44</td>\n",
       "      <td>Level 4</td>\n",
       "    </tr>\n",
       "  </tbody>\n",
       "</table>\n",
       "</div>"
      ],
      "text/plain": [
       "   Difficulty Level 1 Question 1   Difficulty Level 1 Question 2  \\\n",
       "0                              0                               1   \n",
       "1                              1                               0   \n",
       "2                              0                               0   \n",
       "3                              0                               1   \n",
       "4                              0                               1   \n",
       "\n",
       "    Difficulty Level 1 Question 3   Difficulty Level 2 Question 1  \\\n",
       "0                               1                               2   \n",
       "1                               1                               0   \n",
       "2                               0                               0   \n",
       "3                               1                               2   \n",
       "4                               1                               2   \n",
       "\n",
       "    Difficulty Level 2 Question 2   Difficulty Level 2 Question 3  \\\n",
       "0                               0                               0   \n",
       "1                               2                               0   \n",
       "2                               2                               2   \n",
       "3                               0                               2   \n",
       "4                               2                               0   \n",
       "\n",
       "    Difficulty Level 3 Question 1   Difficulty Level 3 Question 2  \\\n",
       "0                               3                               3   \n",
       "1                               3                               0   \n",
       "2                               3                               3   \n",
       "3                               0                               0   \n",
       "4                               0                               3   \n",
       "\n",
       "    Difficulty Level 3 Question 3   Difficulty Level 4 Question 1  \\\n",
       "0                               3                               4   \n",
       "1                               0                               0   \n",
       "2                               3                               0   \n",
       "3                               0                               4   \n",
       "4                               3                               4   \n",
       "\n",
       "   Difficulty Level 4 Question 2   Difficulty Level 4 Question 3  \\\n",
       "0                              4                               4   \n",
       "1                              0                               0   \n",
       "2                              4                               0   \n",
       "3                              0                               0   \n",
       "4                              0                               4   \n",
       "\n",
       "    Difficulty Level 5 Question 1   Difficulty Level 5 Question 2  \\\n",
       "0                               0                               5   \n",
       "1                               0                               0   \n",
       "2                               0                               5   \n",
       "3                               5                               0   \n",
       "4                               5                               5   \n",
       "\n",
       "    Difficulty Level 5 Question 3  Total_Points  Time_Spent    Level  \n",
       "0                               0            30          54  Level 3  \n",
       "1                               5            12          51  Level 1  \n",
       "2                               0            22          56  Level 2  \n",
       "3                               5            20          40  Level 2  \n",
       "4                               0            30          44  Level 4  "
      ]
     },
     "execution_count": 26,
     "metadata": {},
     "output_type": "execute_result"
    }
   ],
   "source": [
    "df = pd.read_csv('QuizPreTestData.csv')\n",
    "df.head()"
   ]
  },
  {
   "cell_type": "code",
   "execution_count": 27,
   "metadata": {},
   "outputs": [
    {
     "name": "stdout",
     "output_type": "stream",
     "text": [
      "Difficulty Level 1 Question 1\n",
      " Difficulty Level 1 Question 2\n",
      " Difficulty Level 1 Question 3\n",
      " Difficulty Level 2 Question 1\n",
      " Difficulty Level 2 Question 2\n",
      " Difficulty Level 2 Question 3\n",
      " Difficulty Level 3 Question 1\n",
      " Difficulty Level 3 Question 2\n",
      " Difficulty Level 3 Question 3\n",
      " Difficulty Level 4 Question 1\n",
      "Difficulty Level 4 Question 2\n",
      " Difficulty Level 4 Question 3\n",
      " Difficulty Level 5 Question 1\n",
      " Difficulty Level 5 Question 2\n",
      " Difficulty Level 5 Question 3\n",
      "Total_Points\n",
      "Time_Spent\n",
      "Level\n"
     ]
    }
   ],
   "source": [
    "for col in df.columns:\n",
    "    print(col)\n",
    "    # print(df[col])"
   ]
  },
  {
   "cell_type": "code",
   "execution_count": 33,
   "metadata": {},
   "outputs": [
    {
     "data": {
      "text/html": [
       "<div>\n",
       "<style scoped>\n",
       "    .dataframe tbody tr th:only-of-type {\n",
       "        vertical-align: middle;\n",
       "    }\n",
       "\n",
       "    .dataframe tbody tr th {\n",
       "        vertical-align: top;\n",
       "    }\n",
       "\n",
       "    .dataframe thead th {\n",
       "        text-align: right;\n",
       "    }\n",
       "</style>\n",
       "<table border=\"1\" class=\"dataframe\">\n",
       "  <thead>\n",
       "    <tr style=\"text-align: right;\">\n",
       "      <th></th>\n",
       "      <th>Total_Points</th>\n",
       "      <th>Time_Spent</th>\n",
       "      <th>Level</th>\n",
       "    </tr>\n",
       "  </thead>\n",
       "  <tbody>\n",
       "    <tr>\n",
       "      <th>0</th>\n",
       "      <td>30</td>\n",
       "      <td>54</td>\n",
       "      <td>Level 3</td>\n",
       "    </tr>\n",
       "    <tr>\n",
       "      <th>1</th>\n",
       "      <td>12</td>\n",
       "      <td>51</td>\n",
       "      <td>Level 1</td>\n",
       "    </tr>\n",
       "    <tr>\n",
       "      <th>2</th>\n",
       "      <td>22</td>\n",
       "      <td>56</td>\n",
       "      <td>Level 2</td>\n",
       "    </tr>\n",
       "    <tr>\n",
       "      <th>3</th>\n",
       "      <td>20</td>\n",
       "      <td>40</td>\n",
       "      <td>Level 2</td>\n",
       "    </tr>\n",
       "    <tr>\n",
       "      <th>4</th>\n",
       "      <td>30</td>\n",
       "      <td>44</td>\n",
       "      <td>Level 4</td>\n",
       "    </tr>\n",
       "  </tbody>\n",
       "</table>\n",
       "</div>"
      ],
      "text/plain": [
       "   Total_Points  Time_Spent    Level\n",
       "0            30          54  Level 3\n",
       "1            12          51  Level 1\n",
       "2            22          56  Level 2\n",
       "3            20          40  Level 2\n",
       "4            30          44  Level 4"
      ]
     },
     "execution_count": 33,
     "metadata": {},
     "output_type": "execute_result"
    }
   ],
   "source": [
    "df2 = df[['Total_Points','Time_Spent','Level']].copy()\n",
    "df2.head()"
   ]
  },
  {
   "cell_type": "code",
   "execution_count": 35,
   "metadata": {},
   "outputs": [
    {
     "data": {
      "text/html": [
       "<div>\n",
       "<style scoped>\n",
       "    .dataframe tbody tr th:only-of-type {\n",
       "        vertical-align: middle;\n",
       "    }\n",
       "\n",
       "    .dataframe tbody tr th {\n",
       "        vertical-align: top;\n",
       "    }\n",
       "\n",
       "    .dataframe thead th {\n",
       "        text-align: right;\n",
       "    }\n",
       "</style>\n",
       "<table border=\"1\" class=\"dataframe\">\n",
       "  <thead>\n",
       "    <tr style=\"text-align: right;\">\n",
       "      <th></th>\n",
       "      <th>Total_Points</th>\n",
       "      <th>Time_Spent</th>\n",
       "      <th>Level</th>\n",
       "    </tr>\n",
       "  </thead>\n",
       "  <tbody>\n",
       "    <tr>\n",
       "      <th>0</th>\n",
       "      <td>30</td>\n",
       "      <td>54</td>\n",
       "      <td>3</td>\n",
       "    </tr>\n",
       "    <tr>\n",
       "      <th>1</th>\n",
       "      <td>12</td>\n",
       "      <td>51</td>\n",
       "      <td>1</td>\n",
       "    </tr>\n",
       "    <tr>\n",
       "      <th>2</th>\n",
       "      <td>22</td>\n",
       "      <td>56</td>\n",
       "      <td>2</td>\n",
       "    </tr>\n",
       "    <tr>\n",
       "      <th>3</th>\n",
       "      <td>20</td>\n",
       "      <td>40</td>\n",
       "      <td>2</td>\n",
       "    </tr>\n",
       "    <tr>\n",
       "      <th>4</th>\n",
       "      <td>30</td>\n",
       "      <td>44</td>\n",
       "      <td>4</td>\n",
       "    </tr>\n",
       "  </tbody>\n",
       "</table>\n",
       "</div>"
      ],
      "text/plain": [
       "   Total_Points  Time_Spent  Level\n",
       "0            30          54      3\n",
       "1            12          51      1\n",
       "2            22          56      2\n",
       "3            20          40      2\n",
       "4            30          44      4"
      ]
     },
     "execution_count": 35,
     "metadata": {},
     "output_type": "execute_result"
    }
   ],
   "source": [
    "def extract_digit(num_str):\n",
    "    num = re.findall(r\"[-+]?\\d*\\.\\d+|\\d+\", num_str)\n",
    "    return num[0]\n",
    "    \n",
    "df2[\"Level\"] = pd.to_numeric(df2[\"Level\"].apply(extract_digit))\n",
    "df2.head()"
   ]
  },
  {
   "cell_type": "code",
   "execution_count": 36,
   "metadata": {},
   "outputs": [
    {
     "data": {
      "text/html": [
       "<div>\n",
       "<style scoped>\n",
       "    .dataframe tbody tr th:only-of-type {\n",
       "        vertical-align: middle;\n",
       "    }\n",
       "\n",
       "    .dataframe tbody tr th {\n",
       "        vertical-align: top;\n",
       "    }\n",
       "\n",
       "    .dataframe thead th {\n",
       "        text-align: right;\n",
       "    }\n",
       "</style>\n",
       "<table border=\"1\" class=\"dataframe\">\n",
       "  <thead>\n",
       "    <tr style=\"text-align: right;\">\n",
       "      <th></th>\n",
       "      <th>count</th>\n",
       "      <th>mean</th>\n",
       "      <th>std</th>\n",
       "      <th>min</th>\n",
       "      <th>25%</th>\n",
       "      <th>50%</th>\n",
       "      <th>75%</th>\n",
       "      <th>max</th>\n",
       "    </tr>\n",
       "  </thead>\n",
       "  <tbody>\n",
       "    <tr>\n",
       "      <th>Total_Points</th>\n",
       "      <td>1000.0</td>\n",
       "      <td>22.580</td>\n",
       "      <td>6.290085</td>\n",
       "      <td>6.0</td>\n",
       "      <td>18.0</td>\n",
       "      <td>23.0</td>\n",
       "      <td>27.0</td>\n",
       "      <td>43.0</td>\n",
       "    </tr>\n",
       "    <tr>\n",
       "      <th>Time_Spent</th>\n",
       "      <td>1000.0</td>\n",
       "      <td>44.386</td>\n",
       "      <td>8.875121</td>\n",
       "      <td>30.0</td>\n",
       "      <td>36.0</td>\n",
       "      <td>45.0</td>\n",
       "      <td>52.0</td>\n",
       "      <td>59.0</td>\n",
       "    </tr>\n",
       "    <tr>\n",
       "      <th>Level</th>\n",
       "      <td>1000.0</td>\n",
       "      <td>2.588</td>\n",
       "      <td>0.985509</td>\n",
       "      <td>1.0</td>\n",
       "      <td>2.0</td>\n",
       "      <td>3.0</td>\n",
       "      <td>3.0</td>\n",
       "      <td>4.0</td>\n",
       "    </tr>\n",
       "  </tbody>\n",
       "</table>\n",
       "</div>"
      ],
      "text/plain": [
       "               count    mean       std   min   25%   50%   75%   max\n",
       "Total_Points  1000.0  22.580  6.290085   6.0  18.0  23.0  27.0  43.0\n",
       "Time_Spent    1000.0  44.386  8.875121  30.0  36.0  45.0  52.0  59.0\n",
       "Level         1000.0   2.588  0.985509   1.0   2.0   3.0   3.0   4.0"
      ]
     },
     "execution_count": 36,
     "metadata": {},
     "output_type": "execute_result"
    }
   ],
   "source": [
    "df2.describe(include='all').transpose()"
   ]
  },
  {
   "cell_type": "code",
   "execution_count": 37,
   "metadata": {},
   "outputs": [
    {
     "data": {
      "text/html": [
       "<div>\n",
       "<style scoped>\n",
       "    .dataframe tbody tr th:only-of-type {\n",
       "        vertical-align: middle;\n",
       "    }\n",
       "\n",
       "    .dataframe tbody tr th {\n",
       "        vertical-align: top;\n",
       "    }\n",
       "\n",
       "    .dataframe thead th {\n",
       "        text-align: right;\n",
       "    }\n",
       "</style>\n",
       "<table border=\"1\" class=\"dataframe\">\n",
       "  <thead>\n",
       "    <tr style=\"text-align: right;\">\n",
       "      <th></th>\n",
       "      <th>Total_Points</th>\n",
       "      <th>Time_Spent</th>\n",
       "      <th>Level</th>\n",
       "    </tr>\n",
       "  </thead>\n",
       "  <tbody>\n",
       "    <tr>\n",
       "      <th>Total_Points</th>\n",
       "      <td>1.000000</td>\n",
       "      <td>-0.026858</td>\n",
       "      <td>0.758786</td>\n",
       "    </tr>\n",
       "    <tr>\n",
       "      <th>Time_Spent</th>\n",
       "      <td>-0.026858</td>\n",
       "      <td>1.000000</td>\n",
       "      <td>-0.570051</td>\n",
       "    </tr>\n",
       "    <tr>\n",
       "      <th>Level</th>\n",
       "      <td>0.758786</td>\n",
       "      <td>-0.570051</td>\n",
       "      <td>1.000000</td>\n",
       "    </tr>\n",
       "  </tbody>\n",
       "</table>\n",
       "</div>"
      ],
      "text/plain": [
       "              Total_Points  Time_Spent     Level\n",
       "Total_Points      1.000000   -0.026858  0.758786\n",
       "Time_Spent       -0.026858    1.000000 -0.570051\n",
       "Level             0.758786   -0.570051  1.000000"
      ]
     },
     "execution_count": 37,
     "metadata": {},
     "output_type": "execute_result"
    },
    {
     "data": {
      "image/png": "[encoded data removed]",
      "text/plain": [
       "<Figure size 640x480 with 2 Axes>"
      ]
     },
     "metadata": {},
     "output_type": "display_data"
    }
   ],
   "source": [
    "correlation_matrix = df2.corr()\n",
    "sns.heatmap(correlation_matrix)\n",
    "correlation_matrix"
   ]
  },
  {
   "cell_type": "markdown",
   "metadata": {},
   "source": [
    "# Pre-possessing Data"
   ]
  },
  {
   "cell_type": "code",
   "execution_count": 38,
   "metadata": {},
   "outputs": [
    {
     "data": {
      "text/html": [
       "<div>\n",
       "<style scoped>\n",
       "    .dataframe tbody tr th:only-of-type {\n",
       "        vertical-align: middle;\n",
       "    }\n",
       "\n",
       "    .dataframe tbody tr th {\n",
       "        vertical-align: top;\n",
       "    }\n",
       "\n",
       "    .dataframe thead th {\n",
       "        text-align: right;\n",
       "    }\n",
       "</style>\n",
       "<table border=\"1\" class=\"dataframe\">\n",
       "  <thead>\n",
       "    <tr style=\"text-align: right;\">\n",
       "      <th></th>\n",
       "      <th>count</th>\n",
       "      <th>mean</th>\n",
       "      <th>std</th>\n",
       "      <th>min</th>\n",
       "      <th>25%</th>\n",
       "      <th>50%</th>\n",
       "      <th>75%</th>\n",
       "      <th>max</th>\n",
       "    </tr>\n",
       "  </thead>\n",
       "  <tbody>\n",
       "    <tr>\n",
       "      <th>Total_Points</th>\n",
       "      <td>1000.0</td>\n",
       "      <td>22.580</td>\n",
       "      <td>6.290085</td>\n",
       "      <td>6.0</td>\n",
       "      <td>18.0</td>\n",
       "      <td>23.0</td>\n",
       "      <td>27.0</td>\n",
       "      <td>43.0</td>\n",
       "    </tr>\n",
       "    <tr>\n",
       "      <th>Time_Spent</th>\n",
       "      <td>1000.0</td>\n",
       "      <td>44.386</td>\n",
       "      <td>8.875121</td>\n",
       "      <td>30.0</td>\n",
       "      <td>36.0</td>\n",
       "      <td>45.0</td>\n",
       "      <td>52.0</td>\n",
       "      <td>59.0</td>\n",
       "    </tr>\n",
       "    <tr>\n",
       "      <th>Level</th>\n",
       "      <td>1000.0</td>\n",
       "      <td>2.588</td>\n",
       "      <td>0.985509</td>\n",
       "      <td>1.0</td>\n",
       "      <td>2.0</td>\n",
       "      <td>3.0</td>\n",
       "      <td>3.0</td>\n",
       "      <td>4.0</td>\n",
       "    </tr>\n",
       "  </tbody>\n",
       "</table>\n",
       "</div>"
      ],
      "text/plain": [
       "               count    mean       std   min   25%   50%   75%   max\n",
       "Total_Points  1000.0  22.580  6.290085   6.0  18.0  23.0  27.0  43.0\n",
       "Time_Spent    1000.0  44.386  8.875121  30.0  36.0  45.0  52.0  59.0\n",
       "Level         1000.0   2.588  0.985509   1.0   2.0   3.0   3.0   4.0"
      ]
     },
     "execution_count": 38,
     "metadata": {},
     "output_type": "execute_result"
    }
   ],
   "source": [
    "df2.describe(include='all').transpose()"
   ]
  },
  {
   "cell_type": "code",
   "execution_count": 39,
   "metadata": {},
   "outputs": [],
   "source": [
    "X = df[['Total_Points','Time_Spent']].values\n",
    "Y = df['Level'].values"
   ]
  },
  {
   "cell_type": "code",
   "execution_count": 40,
   "metadata": {},
   "outputs": [],
   "source": [
    "scaler= StandardScaler()\n",
    "scaler.fit(X)\n",
    "X = scaler.transform(X)"
   ]
  },
  {
   "cell_type": "markdown",
   "metadata": {},
   "source": [
    "# Train Test Split"
   ]
  },
  {
   "cell_type": "code",
   "execution_count": 41,
   "metadata": {},
   "outputs": [],
   "source": [
    "X_train, X_test, Y_train, Y_test = train_test_split(X, Y, test_size=0.2, random_state=10)"
   ]
  },
  {
   "cell_type": "markdown",
   "metadata": {},
   "source": [
    "# Model Training"
   ]
  },
  {
   "cell_type": "code",
   "execution_count": 42,
   "metadata": {},
   "outputs": [],
   "source": [
    "def model_train(model, model_name, X_train, Y_train, X_test, Y_test):\n",
    "    model.fit(X_train, Y_train)\n",
    "\n",
    "    Y_pred = model.predict(X_test)\n",
    "    test_result = pd.DataFrame(data={'Y_act':Y_test, 'Y_pred':Y_pred})\n",
    "\n",
    "    mse = metrics.mean_squared_error(test_result['Y_act'], test_result['Y_pred']) \n",
    "    rmse = np.sqrt(mse)\n",
    "    r2 = metrics.r2_score(test_result['Y_act'], test_result['Y_pred']) \n",
    "\n",
    "    return ({   'Model Name':model_name, \n",
    "                'Model':model, \n",
    "                'Mean Squre Error':mse, \n",
    "                'Root Mean Squre Error':rmse,\n",
    "                'R2 Score':r2,\n",
    "            })"
   ]
  },
  {
   "cell_type": "markdown",
   "metadata": {},
   "source": [
    "### Random Forest Regression"
   ]
  },
  {
   "cell_type": "markdown",
   "metadata": {},
   "source": [
    "#### Hyper-parameter Tuning (n_estimators)"
   ]
  },
  {
   "cell_type": "code",
   "execution_count": 43,
   "metadata": {},
   "outputs": [
    {
     "name": "stdout",
     "output_type": "stream",
     "text": [
      "Maximum Accuracy of  0.982885506287227  when n_estimators is  20\n"
     ]
    },
    {
     "data": {
      "image/png": "[encoded data removed]",
      "text/plain": [
       "<Figure size 640x480 with 1 Axes>"
      ]
     },
     "metadata": {},
     "output_type": "display_data"
    }
   ],
   "source": [
    "Acc_data = [[],[]]\n",
    "for i in range(10,100,10):\n",
    "    model = model_train(RandomForestRegressor(criterion='squared_error',n_jobs=3, n_estimators=i,max_depth=10, min_samples_leaf=1, random_state=3), 'rf_temp', X_train, Y_train, X_test, Y_test)\n",
    "    Acc_data[0].append(i)\n",
    "    Acc_data[1].append(model['R2 Score'])\n",
    "\n",
    "for i in range(100,1000,100):\n",
    "    model = model_train(RandomForestRegressor(criterion='squared_error',n_jobs=3, n_estimators=i,max_depth=10, min_samples_leaf=1, random_state=3), 'rf_temp', X_train, Y_train, X_test, Y_test)\n",
    "    Acc_data[0].append(i)\n",
    "    Acc_data[1].append(model['R2 Score'])\n",
    "\n",
    "for i in range(1000,5000,1000):\n",
    "    model = model_train(RandomForestRegressor(criterion='squared_error',n_jobs=3, n_estimators=i,max_depth=10, min_samples_leaf=1, random_state=3), 'rf_temp', X_train, Y_train, X_test, Y_test)\n",
    "    Acc_data[0].append(i)\n",
    "    Acc_data[1].append(model['R2 Score'])\n",
    "\n",
    "plt.plot(Acc_data[0], Acc_data[1])\n",
    "peak_acc = max(Acc_data[1])\n",
    "peak_ne = Acc_data[0][Acc_data[1].index(peak_acc)]\n",
    "print('Maximum Accuracy of ',peak_acc,' when n_estimators is ',peak_ne)"
   ]
  },
  {
   "cell_type": "markdown",
   "metadata": {},
   "source": [
    "#### Hyper-parameter Tuning (max_depth)"
   ]
  },
  {
   "cell_type": "code",
   "execution_count": 44,
   "metadata": {},
   "outputs": [
    {
     "name": "stdout",
     "output_type": "stream",
     "text": [
      "Maximum Accuracy of  0.980833168762409  when max_depth is  20\n"
     ]
    },
    {
     "data": {
      "image/png": "[encoded data removed]",
      "text/plain": [
       "<Figure size 640x480 with 1 Axes>"
      ]
     },
     "metadata": {},
     "output_type": "display_data"
    }
   ],
   "source": [
    "Acc_data = [[],[]]\n",
    "for i in range(10,100,10):\n",
    "    model = model_train(RandomForestRegressor(criterion='squared_error',n_jobs=3, n_estimators=2000,max_depth=i, min_samples_leaf=1, random_state=3), 'rf_temp', X_train, Y_train, X_test, Y_test)\n",
    "    Acc_data[0].append(i)\n",
    "    Acc_data[1].append(model['R2 Score'])\n",
    "\n",
    "plt.plot(Acc_data[0], Acc_data[1])\n",
    "peak_acc = max(Acc_data[1])\n",
    "peak_md = Acc_data[0][Acc_data[1].index(peak_acc)]\n",
    "print('Maximum Accuracy of ',peak_acc,' when max_depth is ',peak_md)"
   ]
  },
  {
   "cell_type": "markdown",
   "metadata": {},
   "source": [
    "#### Hyper-parameter Tuning (min_samples_leaf)"
   ]
  },
  {
   "cell_type": "code",
   "execution_count": 45,
   "metadata": {},
   "outputs": [
    {
     "name": "stdout",
     "output_type": "stream",
     "text": [
      "Maximum Accuracy of  0.980833168762409  when min_samples_leaf is  1\n"
     ]
    },
    {
     "data": {
      "image/png": "[encoded data removed]",
      "text/plain": [
       "<Figure size 640x480 with 1 Axes>"
      ]
     },
     "metadata": {},
     "output_type": "display_data"
    }
   ],
   "source": [
    "Acc_data = [[],[]]\n",
    "for i in range(1,10,1):\n",
    "    model = model_train(RandomForestRegressor(criterion='squared_error',n_jobs=3, n_estimators=2000,max_depth=30, min_samples_leaf=i, random_state=3), 'rf_temp', X_train, Y_train, X_test, Y_test)\n",
    "    Acc_data[0].append(i)\n",
    "    Acc_data[1].append(model['R2 Score'])\n",
    "\n",
    "plt.plot(Acc_data[0], Acc_data[1])\n",
    "peak_acc = max(Acc_data[1])\n",
    "peak_msl = Acc_data[0][Acc_data[1].index(peak_acc)]\n",
    "print('Maximum Accuracy of ',peak_acc,' when min_samples_leaf is ',peak_msl)"
   ]
  },
  {
   "cell_type": "markdown",
   "metadata": {},
   "source": [
    "#### Training Optimized Model"
   ]
  },
  {
   "cell_type": "code",
   "execution_count": 46,
   "metadata": {},
   "outputs": [
    {
     "name": "stdout",
     "output_type": "stream",
     "text": [
      "{'Model Name': 'Random Forest Regressor', 'Model': RandomForestRegressor(max_depth=20, n_estimators=20, n_jobs=3, random_state=3), 'Mean Squre Error': 0.0161625, 'Root Mean Squre Error': 0.1271318213509112, 'R2 Score': 0.982885506287227}\n"
     ]
    }
   ],
   "source": [
    "final_model = model_train(RandomForestRegressor(criterion='squared_error',n_jobs=3, n_estimators=20,max_depth=20, min_samples_leaf=1, random_state=3), 'Random Forest Regressor', X_train, Y_train, X_test, Y_test)\n",
    "print(final_model)"
   ]
  },
  {
   "cell_type": "markdown",
   "metadata": {},
   "source": [
    "# Saving Model and Pre-processing Data"
   ]
  },
  {
   "cell_type": "code",
   "execution_count": 48,
   "metadata": {},
   "outputs": [],
   "source": [
    "object_list = [scaler, final_model['Model']]\n",
    "open_file = open(\"Data/Model_Data.pkl\", \"wb\")\n",
    "pickle.dump(object_list, open_file)\n",
    "open_file.close()"
   ]
  }
 ],
 "metadata": {
  "kernelspec": {
   "display_name": "Python 3.9.13 ('ML_Test')",
   "language": "python",
   "name": "python3"
  },
  "language_info": {
   "codemirror_mode": {
    "name": "ipython",
    "version": 3
   },
   "file_extension": ".py",
   "mimetype": "text/x-python",
   "name": "python",
   "nbconvert_exporter": "python",
   "pygments_lexer": "ipython3",
   "version": "3.9.13"
  },
  "orig_nbformat": 4,
  "vscode": {
   "interpreter": {
    "hash": "969a2841fb47936b9aaaa2ec8ffb0486d6290fa2621b67fc275e0beb7740638c"
   }
  }
 },
 "nbformat": 4,
 "nbformat_minor": 2
}
